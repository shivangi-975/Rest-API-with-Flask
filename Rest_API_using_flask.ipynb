{
  "nbformat": 4,
  "nbformat_minor": 0,
  "metadata": {
    "colab": {
      "name": "Rest API using flask.ipynb",
      "provenance": []
    },
    "kernelspec": {
      "name": "python3",
      "display_name": "Python 3"
    },
    "language_info": {
      "name": "python"
    }
  },
  "cells": [
    {
      "cell_type": "code",
      "metadata": {
        "id": "V0BzvpZGKa9e"
      },
      "source": [
        "from flask import Flask,jsonify,request"
      ],
      "execution_count": 44,
      "outputs": []
    },
    {
      "cell_type": "code",
      "metadata": {
        "id": "vH-rZ4hTKl5H"
      },
      "source": [
        "app=Flask(__name__)"
      ],
      "execution_count": 45,
      "outputs": []
    },
    {
      "cell_type": "markdown",
      "metadata": {
        "id": "x0OmRnvQLUFe"
      },
      "source": [
        "what  request it will understand"
      ]
    },
    {
      "cell_type": "markdown",
      "metadata": {
        "id": "2XS-fpZRLk-v"
      },
      "source": [
        "use of decorator"
      ]
    },
    {
      "cell_type": "code",
      "metadata": {
        "id": "i2zot1KKMEDE"
      },
      "source": [
        "#post:used to receive data\n",
        "#get:used to send data back only\n"
      ],
      "execution_count": 46,
      "outputs": []
    },
    {
      "cell_type": "code",
      "metadata": {
        "id": "OF2QfCnwsVn5"
      },
      "source": [
        "#endpoints we create are\n",
        "#POST/store data:{name:}# This  will be creating a new store with a given name--data I will be receiving is name\n",
        "#GET/store/<string:name>\n",
        "#GET /store ------returns list of all the stores\n",
        "#POST/store/<string:name>/item{name:,price:}------creates item inside particular store with the given name\n",
        "#GET/store/<string:name>/item--------get all the items in a specific store\n",
        "#by default browsers do get ....hence if you want to use any other method we need to specify that"
      ],
      "execution_count": 47,
      "outputs": []
    },
    {
      "cell_type": "code",
      "metadata": {
        "id": "XmJFMwzJxrrC"
      },
      "source": [
        "#stores contains many list of  dictionaries \n",
        "stores=[\n",
        "        {'name':'My wonderful store',\n",
        "         'items':[\n",
        "                  {\n",
        "                      'name':'my item',\n",
        "                       'price':1500\n",
        "                  }\n",
        "                 ]\n",
        "         \n",
        "        }\n",
        "]\n"
      ],
      "execution_count": 48,
      "outputs": []
    },
    {
      "cell_type": "code",
      "metadata": {
        "id": "6WWchhKX01ZV"
      },
      "source": [
        "#create endpoints and implement them"
      ],
      "execution_count": 49,
      "outputs": []
    },
    {
      "cell_type": "code",
      "metadata": {
        "id": "YXN9Uhr8uJWq"
      },
      "source": [
        "#post/store data:{name:}\n",
        "@app.route('/store',methods=['POST'])\n",
        "#associating method with it\n",
        "def create_store():\n",
        "  request_data=request.get_json()\n",
        "  new_store={\n",
        "      'name':request_data['name'],\n",
        "      'items':[]\n",
        "  }\n",
        "  stores.append(new_store)\n",
        "  return jsonify(new_store)\n",
        "  #this is the request which was made through endpoint '/store',when browser sends request to create a new store ...also browser will send\n",
        "  #some json data ,which is name of store.Hence,this allows to get data back\n",
        "  \n"
      ],
      "execution_count": 50,
      "outputs": []
    },
    {
      "cell_type": "code",
      "metadata": {
        "id": "esUzjkZwu7e0"
      },
      "source": [
        "#GET /store/<string:name>\n",
        "@app.route('/store/<string:name>')\n",
        "def get_store(name):\n",
        "  #iterate over stores\n",
        "  #if the store name matchs,return it\n",
        "  #If none match,return error message\n",
        "  for store in stores:\n",
        "    if store['name']==name:\n",
        "      return jsonify(store)\n",
        "  return jsonify({'message ':'store not found'})"
      ],
      "execution_count": 51,
      "outputs": []
    },
    {
      "cell_type": "markdown",
      "metadata": {
        "id": "zTjMgws3ysnZ"
      },
      "source": [
        "JSON is essentially a dictionary i.e it is just a key ,value pair.\n",
        "used to send data from one application to other.\n",
        "Flask helps us with jsonify method,which takes a dictionary and convert to json .Json always use double  quotes\n"
      ]
    },
    {
      "cell_type": "code",
      "metadata": {
        "id": "mp37tCvYvV87"
      },
      "source": [
        "#GET /store\n",
        "@app.route('/store')\n",
        "def get_stores():\n",
        "  return  jsonify({'stores':stores})\n",
        "\n",
        "\n",
        "  "
      ],
      "execution_count": 52,
      "outputs": []
    },
    {
      "cell_type": "code",
      "metadata": {
        "id": "DtJrTsOOv-uY"
      },
      "source": [
        "#POST /store/<string:name>/item{name:,price:}\n",
        "@app.route('/store/<string:name>item',methods=['POST'])\n",
        "def create_item_in_store(name):\n",
        "  request_data=request.get_json()\n",
        "  for store in stores:\n",
        "    if store['name']==name:\n",
        "      new_item={\n",
        "          'name':request_data['name'],\n",
        "          'price':request_data['price']\n",
        "      }\n",
        "      store['items'].append(new_item)\n",
        "      return jsonify(new_item)\n",
        "  return jsonify({'message':'store not found'})"
      ],
      "execution_count": 53,
      "outputs": []
    },
    {
      "cell_type": "code",
      "metadata": {
        "id": "gg-LPlLiw_oN"
      },
      "source": [
        "#GET/store/<string:name>/item\n",
        "@app.route('/store/<string:name>/item')\n",
        "def get_items_in_store(name):\n",
        "  for store in stores:\n",
        "    if store['name']==name:\n",
        "      return jsonify({'items':store['items']})\n",
        "  return jsonify({'message':'store not found'})"
      ],
      "execution_count": 54,
      "outputs": []
    },
    {
      "cell_type": "code",
      "metadata": {
        "colab": {
          "base_uri": "https://localhost:8080/"
        },
        "id": "LG-f4N2jxa48",
        "outputId": "e0aeb8ec-eaee-4319-b9c9-8042ed651069"
      },
      "source": [
        "app.run(port=5000)"
      ],
      "execution_count": 55,
      "outputs": [
        {
          "output_type": "stream",
          "text": [
            " * Serving Flask app \"__main__\" (lazy loading)\n",
            " * Environment: production\n",
            "\u001b[31m   WARNING: This is a development server. Do not use it in a production deployment.\u001b[0m\n",
            "\u001b[2m   Use a production WSGI server instead.\u001b[0m\n",
            " * Debug mode: off\n"
          ],
          "name": "stdout"
        },
        {
          "output_type": "stream",
          "text": [
            " * Running on http://127.0.0.1:5000/ (Press CTRL+C to quit)\n"
          ],
          "name": "stderr"
        }
      ]
    },
    {
      "cell_type": "code",
      "metadata": {
        "id": "kjoNkKS7xd6t"
      },
      "source": [
        ""
      ],
      "execution_count": 55,
      "outputs": []
    }
  ]
}